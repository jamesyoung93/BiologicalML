{
  "nbformat": 4,
  "nbformat_minor": 0,
  "metadata": {
    "colab": {
      "name": "Filtering and Cleaning.ipynb",
      "provenance": [],
      "collapsed_sections": []
    },
    "kernelspec": {
      "name": "python3",
      "display_name": "Python 3"
    },
    "accelerator": "GPU"
  },
  "cells": [
    {
      "cell_type": "code",
      "metadata": {
        "id": "2G5Nr43lMRra",
        "colab_type": "code",
        "colab": {}
      },
      "source": [
        "import pandas as pd\n",
        "import numpy as np\n",
        "import pandas as pd\n",
        "import numpy as np\n",
        "import matplotlib.pyplot as plt\n",
        "import matplotlib.image as mpimg\n",
        "import seaborn as sns\n",
        "%matplotlib inline\n",
        "np.random.seed(2)\n",
        "from sklearn.model_selection import train_test_split\n",
        "from sklearn.metrics import confusion_matrix\n",
        "import itertools\n",
        "from keras.utils.np_utils import to_categorical # convert to one-hot-encoding\n",
        "from keras.models import Sequential\n",
        "from keras.layers import Dense, Dropout, Flatten, Conv2D, MaxPool2D\n",
        "from keras.optimizers import RMSprop\n",
        "from keras.preprocessing.image import ImageDataGenerator\n",
        "from keras.callbacks import ReduceLROnPlateau\n",
        "sns.set(style='white', context='notebook', palette='deep')\n",
        "import numpy as np\n",
        "import pandas as pd\n",
        "import matplotlib.pyplot as plt\n",
        "import xgboost\n",
        "import math\n",
        "from __future__ import division\n",
        "from scipy.stats import pearsonr\n",
        "from sklearn.linear_model import LinearRegression\n",
        "from sklearn import model_selection, tree, linear_model\n",
        "from sklearn.model_selection import train_test_split\n",
        "from sklearn.metrics import explained_variance_score"
      ],
      "execution_count": 0,
      "outputs": []
    },
    {
      "cell_type": "code",
      "metadata": {
        "id": "CUcZR6-nMYxR",
        "colab_type": "code",
        "outputId": "0d015b3e-891d-49cf-9ab2-56334efcbbb2",
        "colab": {
          "base_uri": "https://localhost:8080/",
          "height": 34
        }
      },
      "source": [
        "from google.colab import drive\n",
        "drive.mount('/content/gdrive')"
      ],
      "execution_count": 0,
      "outputs": [
        {
          "output_type": "stream",
          "text": [
            "Drive already mounted at /content/gdrive; to attempt to forcibly remount, call drive.mount(\"/content/gdrive\", force_remount=True).\n"
          ],
          "name": "stdout"
        }
      ]
    },
    {
      "cell_type": "code",
      "metadata": {
        "id": "PAtOOLTcMbr_",
        "colab_type": "code",
        "colab": {}
      },
      "source": [
        "df = pd.read_csv(\"/content/gdrive/My Drive/eset_HTA20_probeset_Train_NT.csv\")\n",
        "df = df.transpose()"
      ],
      "execution_count": 0,
      "outputs": []
    },
    {
      "cell_type": "markdown",
      "metadata": {
        "id": "rqW5-jKvTQu9",
        "colab_type": "text"
      },
      "source": [
        "Work through each 100,000 gene section one at a time. Kind of like a loop. Just uncomment to chunk you want to work on, follow the code below, then come back and do the next chunk."
      ]
    },
    {
      "cell_type": "code",
      "metadata": {
        "id": "thZ8otyDMgBU",
        "colab_type": "code",
        "colab": {}
      },
      "source": [
        "#X3 = df[df.columns[0:100000]]\n",
        "#X3 = df[df.columns[100000:200000]]\n",
        "#X3 = df[df.columns[200000:300000]]\n",
        "#X3 = df[df.columns[300000:400000]]\n",
        "#X3 = df[df.columns[400000:500000]]\n",
        "#X3 = df[df.columns[500000:600000]]\n",
        "#X3 = df[df.columns[600000:700000]]\n",
        "#X3 = df[df.columns[700000:800000]]\n",
        "#X3 = df[df.columns[800000:925030]]\n",
        "y1 = df[df.columns[925032]]"
      ],
      "execution_count": 0,
      "outputs": []
    },
    {
      "cell_type": "code",
      "metadata": {
        "id": "o2MgbAqOMjiP",
        "colab_type": "code",
        "colab": {}
      },
      "source": [
        "X_train, X_test, y_train, y_test = train_test_split(X3, y1, test_size=0.20, random_state=1)"
      ],
      "execution_count": 0,
      "outputs": []
    },
    {
      "cell_type": "code",
      "metadata": {
        "id": "5JLikOaeMlkD",
        "colab_type": "code",
        "colab": {}
      },
      "source": [
        "xgb = xgboost.XGBRegressor(n_estimators=30000, learning_rate=0.15, gamma=0, subsample=1,\n",
        "                           colsample_bytree=1, max_depth=1)"
      ],
      "execution_count": 0,
      "outputs": []
    },
    {
      "cell_type": "code",
      "metadata": {
        "id": "Ec0kc5ZdMmDY",
        "colab_type": "code",
        "outputId": "ce870c70-fd8b-4729-ba49-a6ac50ac2ccd",
        "colab": {
          "base_uri": "https://localhost:8080/",
          "height": 1000
        }
      },
      "source": [
        "eval_set = [(X_test, y_test)]\n",
        "xgb.fit(X_train, y_train, early_stopping_rounds=50, eval_metric=\"rmse\", eval_set=eval_set, verbose=True) "
      ],
      "execution_count": 0,
      "outputs": [
        {
          "output_type": "stream",
          "text": [
            "/usr/local/lib/python3.6/dist-packages/xgboost/core.py:587: FutureWarning: Series.base is deprecated and will be removed in a future version\n",
            "  if getattr(data, 'base', None) is not None and \\\n"
          ],
          "name": "stderr"
        },
        {
          "output_type": "stream",
          "text": [
            "[17:57:59] WARNING: /workspace/src/objective/regression_obj.cu:152: reg:linear is now deprecated in favor of reg:squarederror.\n",
            "[0]\tvalidation_0-rmse:24.2676\n",
            "Will train until validation_0-rmse hasn't improved in 50 rounds.\n",
            "[1]\tvalidation_0-rmse:21.244\n",
            "[2]\tvalidation_0-rmse:18.7417\n",
            "[3]\tvalidation_0-rmse:16.5558\n",
            "[4]\tvalidation_0-rmse:14.7771\n",
            "[5]\tvalidation_0-rmse:13.3826\n",
            "[6]\tvalidation_0-rmse:12.1752\n",
            "[7]\tvalidation_0-rmse:11.2293\n",
            "[8]\tvalidation_0-rmse:10.4458\n",
            "[9]\tvalidation_0-rmse:9.74678\n",
            "[10]\tvalidation_0-rmse:9.22431\n",
            "[11]\tvalidation_0-rmse:8.8368\n",
            "[12]\tvalidation_0-rmse:8.47107\n",
            "[13]\tvalidation_0-rmse:8.17673\n",
            "[14]\tvalidation_0-rmse:7.96556\n",
            "[15]\tvalidation_0-rmse:7.74794\n",
            "[16]\tvalidation_0-rmse:7.66809\n",
            "[17]\tvalidation_0-rmse:7.58372\n",
            "[18]\tvalidation_0-rmse:7.5386\n",
            "[19]\tvalidation_0-rmse:7.46763\n",
            "[20]\tvalidation_0-rmse:7.39155\n",
            "[21]\tvalidation_0-rmse:7.37061\n",
            "[22]\tvalidation_0-rmse:7.23356\n",
            "[23]\tvalidation_0-rmse:7.20779\n",
            "[24]\tvalidation_0-rmse:7.14116\n",
            "[25]\tvalidation_0-rmse:7.09016\n",
            "[26]\tvalidation_0-rmse:7.0741\n",
            "[27]\tvalidation_0-rmse:7.08605\n",
            "[28]\tvalidation_0-rmse:7.08158\n",
            "[29]\tvalidation_0-rmse:7.085\n",
            "[30]\tvalidation_0-rmse:7.08672\n",
            "[31]\tvalidation_0-rmse:7.11637\n",
            "[32]\tvalidation_0-rmse:7.08026\n",
            "[33]\tvalidation_0-rmse:7.05068\n",
            "[34]\tvalidation_0-rmse:7.05704\n",
            "[35]\tvalidation_0-rmse:7.09257\n",
            "[36]\tvalidation_0-rmse:7.03304\n",
            "[37]\tvalidation_0-rmse:7.01606\n",
            "[38]\tvalidation_0-rmse:6.97768\n",
            "[39]\tvalidation_0-rmse:6.9877\n",
            "[40]\tvalidation_0-rmse:6.94459\n",
            "[41]\tvalidation_0-rmse:6.92316\n",
            "[42]\tvalidation_0-rmse:6.95652\n",
            "[43]\tvalidation_0-rmse:6.98118\n",
            "[44]\tvalidation_0-rmse:7.00702\n",
            "[45]\tvalidation_0-rmse:6.92317\n",
            "[46]\tvalidation_0-rmse:6.92917\n",
            "[47]\tvalidation_0-rmse:6.94116\n",
            "[48]\tvalidation_0-rmse:6.94299\n",
            "[49]\tvalidation_0-rmse:6.96289\n",
            "[50]\tvalidation_0-rmse:6.93565\n",
            "[51]\tvalidation_0-rmse:6.93253\n",
            "[52]\tvalidation_0-rmse:6.91255\n",
            "[53]\tvalidation_0-rmse:6.9237\n",
            "[54]\tvalidation_0-rmse:6.89229\n",
            "[55]\tvalidation_0-rmse:6.91221\n",
            "[56]\tvalidation_0-rmse:6.89408\n",
            "[57]\tvalidation_0-rmse:6.91585\n",
            "[58]\tvalidation_0-rmse:6.92719\n",
            "[59]\tvalidation_0-rmse:6.87757\n",
            "[60]\tvalidation_0-rmse:6.88164\n",
            "[61]\tvalidation_0-rmse:6.89156\n",
            "[62]\tvalidation_0-rmse:6.90449\n",
            "[63]\tvalidation_0-rmse:6.89729\n",
            "[64]\tvalidation_0-rmse:6.88461\n",
            "[65]\tvalidation_0-rmse:6.85436\n",
            "[66]\tvalidation_0-rmse:6.85687\n",
            "[67]\tvalidation_0-rmse:6.87809\n",
            "[68]\tvalidation_0-rmse:6.88071\n",
            "[69]\tvalidation_0-rmse:6.8531\n",
            "[70]\tvalidation_0-rmse:6.85467\n",
            "[71]\tvalidation_0-rmse:6.85626\n",
            "[72]\tvalidation_0-rmse:6.89604\n",
            "[73]\tvalidation_0-rmse:6.88088\n",
            "[74]\tvalidation_0-rmse:6.87148\n",
            "[75]\tvalidation_0-rmse:6.86604\n",
            "[76]\tvalidation_0-rmse:6.88513\n",
            "[77]\tvalidation_0-rmse:6.89209\n",
            "[78]\tvalidation_0-rmse:6.90331\n",
            "[79]\tvalidation_0-rmse:6.89614\n",
            "[80]\tvalidation_0-rmse:6.8896\n",
            "[81]\tvalidation_0-rmse:6.8995\n",
            "[82]\tvalidation_0-rmse:6.89859\n",
            "[83]\tvalidation_0-rmse:6.89343\n",
            "[84]\tvalidation_0-rmse:6.85428\n",
            "[85]\tvalidation_0-rmse:6.86763\n",
            "[86]\tvalidation_0-rmse:6.87106\n",
            "[87]\tvalidation_0-rmse:6.87003\n",
            "[88]\tvalidation_0-rmse:6.85092\n",
            "[89]\tvalidation_0-rmse:6.81717\n",
            "[90]\tvalidation_0-rmse:6.82742\n",
            "[91]\tvalidation_0-rmse:6.84619\n",
            "[92]\tvalidation_0-rmse:6.85216\n",
            "[93]\tvalidation_0-rmse:6.84442\n",
            "[94]\tvalidation_0-rmse:6.84155\n",
            "[95]\tvalidation_0-rmse:6.8161\n",
            "[96]\tvalidation_0-rmse:6.82359\n",
            "[97]\tvalidation_0-rmse:6.81997\n",
            "[98]\tvalidation_0-rmse:6.8115\n",
            "[99]\tvalidation_0-rmse:6.81869\n",
            "[100]\tvalidation_0-rmse:6.819\n",
            "[101]\tvalidation_0-rmse:6.8141\n",
            "[102]\tvalidation_0-rmse:6.80828\n",
            "[103]\tvalidation_0-rmse:6.81075\n",
            "[104]\tvalidation_0-rmse:6.78772\n",
            "[105]\tvalidation_0-rmse:6.79933\n",
            "[106]\tvalidation_0-rmse:6.81153\n",
            "[107]\tvalidation_0-rmse:6.816\n",
            "[108]\tvalidation_0-rmse:6.81226\n",
            "[109]\tvalidation_0-rmse:6.80397\n",
            "[110]\tvalidation_0-rmse:6.79233\n",
            "[111]\tvalidation_0-rmse:6.80111\n",
            "[112]\tvalidation_0-rmse:6.79909\n",
            "[113]\tvalidation_0-rmse:6.79886\n",
            "[114]\tvalidation_0-rmse:6.80564\n",
            "[115]\tvalidation_0-rmse:6.78951\n",
            "[116]\tvalidation_0-rmse:6.7853\n",
            "[117]\tvalidation_0-rmse:6.78798\n",
            "[118]\tvalidation_0-rmse:6.78677\n",
            "[119]\tvalidation_0-rmse:6.77732\n",
            "[120]\tvalidation_0-rmse:6.79587\n",
            "[121]\tvalidation_0-rmse:6.79298\n",
            "[122]\tvalidation_0-rmse:6.80299\n",
            "[123]\tvalidation_0-rmse:6.79312\n",
            "[124]\tvalidation_0-rmse:6.78991\n",
            "[125]\tvalidation_0-rmse:6.77907\n",
            "[126]\tvalidation_0-rmse:6.78735\n",
            "[127]\tvalidation_0-rmse:6.77362\n",
            "[128]\tvalidation_0-rmse:6.76117\n",
            "[129]\tvalidation_0-rmse:6.74761\n",
            "[130]\tvalidation_0-rmse:6.75865\n",
            "[131]\tvalidation_0-rmse:6.76359\n",
            "[132]\tvalidation_0-rmse:6.74535\n",
            "[133]\tvalidation_0-rmse:6.73431\n",
            "[134]\tvalidation_0-rmse:6.73543\n",
            "[135]\tvalidation_0-rmse:6.75546\n",
            "[136]\tvalidation_0-rmse:6.763\n",
            "[137]\tvalidation_0-rmse:6.75689\n",
            "[138]\tvalidation_0-rmse:6.75932\n",
            "[139]\tvalidation_0-rmse:6.76182\n",
            "[140]\tvalidation_0-rmse:6.7752\n",
            "[141]\tvalidation_0-rmse:6.77908\n",
            "[142]\tvalidation_0-rmse:6.77792\n",
            "[143]\tvalidation_0-rmse:6.7818\n",
            "[144]\tvalidation_0-rmse:6.80004\n",
            "[145]\tvalidation_0-rmse:6.79873\n",
            "[146]\tvalidation_0-rmse:6.81606\n",
            "[147]\tvalidation_0-rmse:6.82035\n",
            "[148]\tvalidation_0-rmse:6.82122\n",
            "[149]\tvalidation_0-rmse:6.82795\n",
            "[150]\tvalidation_0-rmse:6.83751\n",
            "[151]\tvalidation_0-rmse:6.82858\n",
            "[152]\tvalidation_0-rmse:6.82409\n",
            "[153]\tvalidation_0-rmse:6.8358\n",
            "[154]\tvalidation_0-rmse:6.83364\n",
            "[155]\tvalidation_0-rmse:6.84117\n",
            "[156]\tvalidation_0-rmse:6.8414\n",
            "[157]\tvalidation_0-rmse:6.84289\n",
            "[158]\tvalidation_0-rmse:6.84505\n",
            "[159]\tvalidation_0-rmse:6.8452\n",
            "[160]\tvalidation_0-rmse:6.84537\n",
            "[161]\tvalidation_0-rmse:6.84666\n",
            "[162]\tvalidation_0-rmse:6.86031\n",
            "[163]\tvalidation_0-rmse:6.85191\n",
            "[164]\tvalidation_0-rmse:6.86185\n",
            "[165]\tvalidation_0-rmse:6.86548\n",
            "[166]\tvalidation_0-rmse:6.86557\n",
            "[167]\tvalidation_0-rmse:6.86497\n",
            "[168]\tvalidation_0-rmse:6.8575\n",
            "[169]\tvalidation_0-rmse:6.84649\n",
            "[170]\tvalidation_0-rmse:6.84945\n",
            "[171]\tvalidation_0-rmse:6.84059\n",
            "[172]\tvalidation_0-rmse:6.85473\n",
            "[173]\tvalidation_0-rmse:6.86206\n",
            "[174]\tvalidation_0-rmse:6.85853\n",
            "[175]\tvalidation_0-rmse:6.85906\n",
            "[176]\tvalidation_0-rmse:6.86325\n",
            "[177]\tvalidation_0-rmse:6.86354\n",
            "[178]\tvalidation_0-rmse:6.86637\n",
            "[179]\tvalidation_0-rmse:6.86751\n",
            "[180]\tvalidation_0-rmse:6.85875\n",
            "[181]\tvalidation_0-rmse:6.86913\n",
            "[182]\tvalidation_0-rmse:6.87842\n",
            "[183]\tvalidation_0-rmse:6.86718\n",
            "Stopping. Best iteration:\n",
            "[133]\tvalidation_0-rmse:6.73431\n",
            "\n"
          ],
          "name": "stdout"
        },
        {
          "output_type": "execute_result",
          "data": {
            "text/plain": [
              "XGBRegressor(base_score=0.5, booster='gbtree', colsample_bylevel=1,\n",
              "             colsample_bynode=1, colsample_bytree=1, gamma=0,\n",
              "             importance_type='gain', learning_rate=0.15, max_delta_step=0,\n",
              "             max_depth=1, min_child_weight=1, missing=None, n_estimators=30000,\n",
              "             n_jobs=1, nthread=None, objective='reg:linear', random_state=0,\n",
              "             reg_alpha=0, reg_lambda=1, scale_pos_weight=1, seed=None,\n",
              "             silent=None, subsample=1, verbosity=1)"
            ]
          },
          "metadata": {
            "tags": []
          },
          "execution_count": 20
        }
      ]
    },
    {
      "cell_type": "code",
      "metadata": {
        "id": "-8RDqmtFUp2P",
        "colab_type": "code",
        "colab": {}
      },
      "source": [
        "features = pd.DataFrame(xgb.feature_importances_)"
      ],
      "execution_count": 0,
      "outputs": []
    },
    {
      "cell_type": "markdown",
      "metadata": {
        "id": "lwA54P-_VXYZ",
        "colab_type": "text"
      },
      "source": [
        "This merges the feature importances with the features"
      ]
    },
    {
      "cell_type": "code",
      "metadata": {
        "id": "EQTvtIYE620X",
        "colab_type": "code",
        "colab": {}
      },
      "source": [
        "X3 = pd.DataFrame(X3)\n",
        "X3 = X3.T\n",
        "features.reset_index(drop=True, inplace=True)\n",
        "X3.reset_index(drop=True, inplace=True)\n",
        "\n",
        "frames = [X3, features]\n",
        "X3 = pd.concat(frames, axis=1)"
      ],
      "execution_count": 0,
      "outputs": []
    },
    {
      "cell_type": "markdown",
      "metadata": {
        "id": "dPLqer04Vuxn",
        "colab_type": "text"
      },
      "source": [
        "This drops any features that have a 0 for importance"
      ]
    },
    {
      "cell_type": "code",
      "metadata": {
        "id": "9IYLVBmn9RVH",
        "colab_type": "code",
        "colab": {}
      },
      "source": [
        "X3 = X3[(X3 != 0).all(1)]"
      ],
      "execution_count": 0,
      "outputs": []
    },
    {
      "cell_type": "markdown",
      "metadata": {
        "id": "mCwZOMRLV3WC",
        "colab_type": "text"
      },
      "source": [
        "Find shape to know what column to drop (Dropping the feature importance column)"
      ]
    },
    {
      "cell_type": "code",
      "metadata": {
        "id": "NI2t5w6B-oER",
        "colab_type": "code",
        "outputId": "a77a36c4-0ea3-4590-f66a-00d5b2a4ffb0",
        "colab": {
          "base_uri": "https://localhost:8080/",
          "height": 34
        }
      },
      "source": [
        "X3.shape"
      ],
      "execution_count": 0,
      "outputs": [
        {
          "output_type": "execute_result",
          "data": {
            "text/plain": [
              "(179, 368)"
            ]
          },
          "metadata": {
            "tags": []
          },
          "execution_count": 12
        }
      ]
    },
    {
      "cell_type": "markdown",
      "metadata": {
        "id": "GbHO4XRZWGqi",
        "colab_type": "text"
      },
      "source": [
        "We are trying to drop the far right column so from shape above (x, y) use y-1. should be 367 every time."
      ]
    },
    {
      "cell_type": "code",
      "metadata": {
        "id": "RfBY1x9c9666",
        "colab_type": "code",
        "colab": {}
      },
      "source": [
        "X3 = X3.drop(X3.columns[367], axis=1)"
      ],
      "execution_count": 0,
      "outputs": []
    },
    {
      "cell_type": "markdown",
      "metadata": {
        "id": "2u0tpyrfYbTh",
        "colab_type": "text"
      },
      "source": [
        "Flip back to its correct orientation"
      ]
    },
    {
      "cell_type": "code",
      "metadata": {
        "id": "Fq1ssZHd9Yrr",
        "colab_type": "code",
        "colab": {}
      },
      "source": [
        "X3 = X3.T"
      ],
      "execution_count": 0,
      "outputs": []
    },
    {
      "cell_type": "code",
      "metadata": {
        "id": "OyxpMNL5SSaJ",
        "colab_type": "code",
        "outputId": "b10767ef-8a5c-4d22-bf54-ff2f9b4def76",
        "colab": {
          "base_uri": "https://localhost:8080/",
          "height": 253
        }
      },
      "source": [
        "X3.head() #check it"
      ],
      "execution_count": 0,
      "outputs": [
        {
          "output_type": "execute_result",
          "data": {
            "text/html": [
              "<div>\n",
              "<style scoped>\n",
              "    .dataframe tbody tr th:only-of-type {\n",
              "        vertical-align: middle;\n",
              "    }\n",
              "\n",
              "    .dataframe tbody tr th {\n",
              "        vertical-align: top;\n",
              "    }\n",
              "\n",
              "    .dataframe thead th {\n",
              "        text-align: right;\n",
              "    }\n",
              "</style>\n",
              "<table border=\"1\" class=\"dataframe\">\n",
              "  <thead>\n",
              "    <tr style=\"text-align: right;\">\n",
              "      <th></th>\n",
              "      <th>241</th>\n",
              "      <th>445</th>\n",
              "      <th>613</th>\n",
              "      <th>1629</th>\n",
              "      <th>2500</th>\n",
              "      <th>2529</th>\n",
              "      <th>2538</th>\n",
              "      <th>3593</th>\n",
              "      <th>4914</th>\n",
              "      <th>6067</th>\n",
              "      <th>6753</th>\n",
              "      <th>8174</th>\n",
              "      <th>8250</th>\n",
              "      <th>8402</th>\n",
              "      <th>10543</th>\n",
              "      <th>10696</th>\n",
              "      <th>10978</th>\n",
              "      <th>11736</th>\n",
              "      <th>12067</th>\n",
              "      <th>12071</th>\n",
              "      <th>12190</th>\n",
              "      <th>13992</th>\n",
              "      <th>14415</th>\n",
              "      <th>16045</th>\n",
              "      <th>16767</th>\n",
              "      <th>17738</th>\n",
              "      <th>19202</th>\n",
              "      <th>19473</th>\n",
              "      <th>19711</th>\n",
              "      <th>20211</th>\n",
              "      <th>20859</th>\n",
              "      <th>21024</th>\n",
              "      <th>22839</th>\n",
              "      <th>24373</th>\n",
              "      <th>24984</th>\n",
              "      <th>25828</th>\n",
              "      <th>26131</th>\n",
              "      <th>27054</th>\n",
              "      <th>27684</th>\n",
              "      <th>27990</th>\n",
              "      <th>...</th>\n",
              "      <th>91035</th>\n",
              "      <th>91180</th>\n",
              "      <th>91263</th>\n",
              "      <th>92730</th>\n",
              "      <th>93089</th>\n",
              "      <th>94163</th>\n",
              "      <th>94940</th>\n",
              "      <th>95169</th>\n",
              "      <th>96081</th>\n",
              "      <th>96205</th>\n",
              "      <th>96889</th>\n",
              "      <th>97101</th>\n",
              "      <th>98004</th>\n",
              "      <th>98420</th>\n",
              "      <th>99072</th>\n",
              "      <th>99172</th>\n",
              "      <th>100615</th>\n",
              "      <th>100616</th>\n",
              "      <th>100632</th>\n",
              "      <th>100846</th>\n",
              "      <th>101525</th>\n",
              "      <th>102328</th>\n",
              "      <th>103365</th>\n",
              "      <th>103908</th>\n",
              "      <th>104364</th>\n",
              "      <th>105031</th>\n",
              "      <th>105131</th>\n",
              "      <th>105198</th>\n",
              "      <th>106271</th>\n",
              "      <th>106397</th>\n",
              "      <th>106759</th>\n",
              "      <th>107050</th>\n",
              "      <th>108305</th>\n",
              "      <th>108309</th>\n",
              "      <th>108770</th>\n",
              "      <th>111807</th>\n",
              "      <th>117320</th>\n",
              "      <th>118513</th>\n",
              "      <th>123319</th>\n",
              "      <th>124855</th>\n",
              "    </tr>\n",
              "  </thead>\n",
              "  <tbody>\n",
              "    <tr>\n",
              "      <th>Tarca_001_P1A01</th>\n",
              "      <td>2.354485</td>\n",
              "      <td>5.677775</td>\n",
              "      <td>5.019519</td>\n",
              "      <td>6.015978</td>\n",
              "      <td>2.022600</td>\n",
              "      <td>5.382738</td>\n",
              "      <td>4.553756</td>\n",
              "      <td>7.944861</td>\n",
              "      <td>2.226139</td>\n",
              "      <td>9.336128</td>\n",
              "      <td>3.269358</td>\n",
              "      <td>2.489024</td>\n",
              "      <td>9.182119</td>\n",
              "      <td>5.461822</td>\n",
              "      <td>5.793349</td>\n",
              "      <td>8.518625</td>\n",
              "      <td>6.739696</td>\n",
              "      <td>2.353764</td>\n",
              "      <td>3.295626</td>\n",
              "      <td>3.849626</td>\n",
              "      <td>2.932390</td>\n",
              "      <td>6.771731</td>\n",
              "      <td>5.033137</td>\n",
              "      <td>3.382666</td>\n",
              "      <td>6.104730</td>\n",
              "      <td>3.054032</td>\n",
              "      <td>6.911797</td>\n",
              "      <td>3.306167</td>\n",
              "      <td>2.419056</td>\n",
              "      <td>7.734427</td>\n",
              "      <td>6.993334</td>\n",
              "      <td>6.670283</td>\n",
              "      <td>8.329305</td>\n",
              "      <td>4.883909</td>\n",
              "      <td>5.315186</td>\n",
              "      <td>6.514435</td>\n",
              "      <td>5.940063</td>\n",
              "      <td>5.957570</td>\n",
              "      <td>5.133054</td>\n",
              "      <td>1.940086</td>\n",
              "      <td>...</td>\n",
              "      <td>3.050201</td>\n",
              "      <td>2.288596</td>\n",
              "      <td>4.224222</td>\n",
              "      <td>3.019242</td>\n",
              "      <td>9.159564</td>\n",
              "      <td>5.601985</td>\n",
              "      <td>6.079564</td>\n",
              "      <td>6.123020</td>\n",
              "      <td>6.334328</td>\n",
              "      <td>8.224543</td>\n",
              "      <td>4.724878</td>\n",
              "      <td>12.546042</td>\n",
              "      <td>2.421585</td>\n",
              "      <td>3.306084</td>\n",
              "      <td>7.521602</td>\n",
              "      <td>4.827859</td>\n",
              "      <td>7.643280</td>\n",
              "      <td>11.877521</td>\n",
              "      <td>3.721569</td>\n",
              "      <td>5.014171</td>\n",
              "      <td>5.813177</td>\n",
              "      <td>5.549163</td>\n",
              "      <td>1.985873</td>\n",
              "      <td>3.678705</td>\n",
              "      <td>4.166612</td>\n",
              "      <td>4.253260</td>\n",
              "      <td>3.563419</td>\n",
              "      <td>7.295166</td>\n",
              "      <td>3.674095</td>\n",
              "      <td>6.378965</td>\n",
              "      <td>6.036418</td>\n",
              "      <td>8.785819</td>\n",
              "      <td>4.482681</td>\n",
              "      <td>2.558984</td>\n",
              "      <td>5.376235</td>\n",
              "      <td>2.293329</td>\n",
              "      <td>2.690024</td>\n",
              "      <td>4.604766</td>\n",
              "      <td>7.433590</td>\n",
              "      <td>2.137929</td>\n",
              "    </tr>\n",
              "    <tr>\n",
              "      <th>Tarca_004_P1A04</th>\n",
              "      <td>2.929192</td>\n",
              "      <td>5.255329</td>\n",
              "      <td>6.192424</td>\n",
              "      <td>5.438990</td>\n",
              "      <td>2.585260</td>\n",
              "      <td>6.276500</td>\n",
              "      <td>4.028718</td>\n",
              "      <td>8.057828</td>\n",
              "      <td>2.371291</td>\n",
              "      <td>10.133126</td>\n",
              "      <td>3.402948</td>\n",
              "      <td>1.989408</td>\n",
              "      <td>9.515663</td>\n",
              "      <td>5.253042</td>\n",
              "      <td>5.892292</td>\n",
              "      <td>8.340958</td>\n",
              "      <td>6.278129</td>\n",
              "      <td>1.943941</td>\n",
              "      <td>3.510535</td>\n",
              "      <td>3.467165</td>\n",
              "      <td>2.604930</td>\n",
              "      <td>6.624401</td>\n",
              "      <td>5.008011</td>\n",
              "      <td>2.720975</td>\n",
              "      <td>6.256378</td>\n",
              "      <td>3.384577</td>\n",
              "      <td>7.042094</td>\n",
              "      <td>3.257401</td>\n",
              "      <td>2.575131</td>\n",
              "      <td>7.336377</td>\n",
              "      <td>6.407437</td>\n",
              "      <td>6.491921</td>\n",
              "      <td>7.835327</td>\n",
              "      <td>4.411792</td>\n",
              "      <td>5.427408</td>\n",
              "      <td>6.097974</td>\n",
              "      <td>6.219978</td>\n",
              "      <td>6.075924</td>\n",
              "      <td>4.715674</td>\n",
              "      <td>2.142719</td>\n",
              "      <td>...</td>\n",
              "      <td>3.531077</td>\n",
              "      <td>2.116370</td>\n",
              "      <td>4.272241</td>\n",
              "      <td>2.279641</td>\n",
              "      <td>8.871713</td>\n",
              "      <td>4.900266</td>\n",
              "      <td>6.571698</td>\n",
              "      <td>7.596235</td>\n",
              "      <td>5.690219</td>\n",
              "      <td>8.863236</td>\n",
              "      <td>4.251584</td>\n",
              "      <td>12.638162</td>\n",
              "      <td>2.506464</td>\n",
              "      <td>3.640395</td>\n",
              "      <td>6.585839</td>\n",
              "      <td>5.078295</td>\n",
              "      <td>8.180246</td>\n",
              "      <td>10.335559</td>\n",
              "      <td>3.839184</td>\n",
              "      <td>4.531649</td>\n",
              "      <td>5.572898</td>\n",
              "      <td>5.374108</td>\n",
              "      <td>2.273176</td>\n",
              "      <td>3.534304</td>\n",
              "      <td>3.787985</td>\n",
              "      <td>4.064108</td>\n",
              "      <td>5.155952</td>\n",
              "      <td>6.982794</td>\n",
              "      <td>3.431419</td>\n",
              "      <td>6.185111</td>\n",
              "      <td>5.804158</td>\n",
              "      <td>8.181132</td>\n",
              "      <td>3.903421</td>\n",
              "      <td>3.722905</td>\n",
              "      <td>6.523913</td>\n",
              "      <td>2.016660</td>\n",
              "      <td>2.435822</td>\n",
              "      <td>4.393711</td>\n",
              "      <td>7.953125</td>\n",
              "      <td>1.897539</td>\n",
              "    </tr>\n",
              "    <tr>\n",
              "      <th>Tarca_005_P1A05</th>\n",
              "      <td>3.076161</td>\n",
              "      <td>5.362117</td>\n",
              "      <td>5.526927</td>\n",
              "      <td>6.046906</td>\n",
              "      <td>2.446598</td>\n",
              "      <td>5.727366</td>\n",
              "      <td>3.628446</td>\n",
              "      <td>8.179746</td>\n",
              "      <td>2.525952</td>\n",
              "      <td>9.609026</td>\n",
              "      <td>3.212113</td>\n",
              "      <td>2.390696</td>\n",
              "      <td>10.067438</td>\n",
              "      <td>5.160232</td>\n",
              "      <td>5.437918</td>\n",
              "      <td>8.463737</td>\n",
              "      <td>6.432416</td>\n",
              "      <td>2.050187</td>\n",
              "      <td>3.491073</td>\n",
              "      <td>4.114218</td>\n",
              "      <td>2.919216</td>\n",
              "      <td>6.190084</td>\n",
              "      <td>4.378418</td>\n",
              "      <td>3.063216</td>\n",
              "      <td>6.193415</td>\n",
              "      <td>3.502256</td>\n",
              "      <td>7.589840</td>\n",
              "      <td>3.103296</td>\n",
              "      <td>2.287229</td>\n",
              "      <td>8.996055</td>\n",
              "      <td>6.717511</td>\n",
              "      <td>6.419587</td>\n",
              "      <td>8.854956</td>\n",
              "      <td>4.312776</td>\n",
              "      <td>5.428598</td>\n",
              "      <td>6.240501</td>\n",
              "      <td>6.325023</td>\n",
              "      <td>6.080703</td>\n",
              "      <td>5.214818</td>\n",
              "      <td>2.142752</td>\n",
              "      <td>...</td>\n",
              "      <td>2.565858</td>\n",
              "      <td>2.438923</td>\n",
              "      <td>4.352377</td>\n",
              "      <td>4.072907</td>\n",
              "      <td>8.908691</td>\n",
              "      <td>5.017188</td>\n",
              "      <td>6.387343</td>\n",
              "      <td>7.102482</td>\n",
              "      <td>5.290873</td>\n",
              "      <td>8.966486</td>\n",
              "      <td>5.469713</td>\n",
              "      <td>12.655068</td>\n",
              "      <td>2.895704</td>\n",
              "      <td>3.749841</td>\n",
              "      <td>6.729237</td>\n",
              "      <td>5.224319</td>\n",
              "      <td>7.759395</td>\n",
              "      <td>10.325071</td>\n",
              "      <td>3.719830</td>\n",
              "      <td>4.420078</td>\n",
              "      <td>5.479118</td>\n",
              "      <td>5.555716</td>\n",
              "      <td>1.597393</td>\n",
              "      <td>3.649527</td>\n",
              "      <td>3.752035</td>\n",
              "      <td>4.189307</td>\n",
              "      <td>4.847846</td>\n",
              "      <td>6.815268</td>\n",
              "      <td>2.911522</td>\n",
              "      <td>6.583978</td>\n",
              "      <td>5.648801</td>\n",
              "      <td>8.755652</td>\n",
              "      <td>4.776563</td>\n",
              "      <td>3.351324</td>\n",
              "      <td>5.910389</td>\n",
              "      <td>1.984415</td>\n",
              "      <td>2.345699</td>\n",
              "      <td>3.888668</td>\n",
              "      <td>7.860126</td>\n",
              "      <td>2.411225</td>\n",
              "    </tr>\n",
              "    <tr>\n",
              "      <th>Tarca_007_P1A07</th>\n",
              "      <td>2.683113</td>\n",
              "      <td>5.489747</td>\n",
              "      <td>5.314329</td>\n",
              "      <td>6.168067</td>\n",
              "      <td>2.212639</td>\n",
              "      <td>6.969993</td>\n",
              "      <td>5.815427</td>\n",
              "      <td>7.884538</td>\n",
              "      <td>2.662123</td>\n",
              "      <td>9.373850</td>\n",
              "      <td>3.966926</td>\n",
              "      <td>2.595548</td>\n",
              "      <td>8.994055</td>\n",
              "      <td>5.783137</td>\n",
              "      <td>5.522076</td>\n",
              "      <td>8.250113</td>\n",
              "      <td>6.336686</td>\n",
              "      <td>2.177656</td>\n",
              "      <td>3.128255</td>\n",
              "      <td>3.687813</td>\n",
              "      <td>2.792401</td>\n",
              "      <td>6.107019</td>\n",
              "      <td>4.641697</td>\n",
              "      <td>3.011967</td>\n",
              "      <td>6.230025</td>\n",
              "      <td>3.607850</td>\n",
              "      <td>7.366155</td>\n",
              "      <td>3.731898</td>\n",
              "      <td>2.591465</td>\n",
              "      <td>7.834151</td>\n",
              "      <td>6.289959</td>\n",
              "      <td>6.567591</td>\n",
              "      <td>8.076642</td>\n",
              "      <td>4.523957</td>\n",
              "      <td>5.227663</td>\n",
              "      <td>6.345817</td>\n",
              "      <td>6.478048</td>\n",
              "      <td>5.753856</td>\n",
              "      <td>5.469109</td>\n",
              "      <td>1.922102</td>\n",
              "      <td>...</td>\n",
              "      <td>2.786146</td>\n",
              "      <td>2.331870</td>\n",
              "      <td>3.600194</td>\n",
              "      <td>3.231818</td>\n",
              "      <td>9.290207</td>\n",
              "      <td>5.769371</td>\n",
              "      <td>6.476821</td>\n",
              "      <td>7.193369</td>\n",
              "      <td>5.832641</td>\n",
              "      <td>9.062117</td>\n",
              "      <td>4.878735</td>\n",
              "      <td>12.696378</td>\n",
              "      <td>4.293860</td>\n",
              "      <td>3.501900</td>\n",
              "      <td>6.520917</td>\n",
              "      <td>4.883814</td>\n",
              "      <td>7.730399</td>\n",
              "      <td>10.419855</td>\n",
              "      <td>3.212946</td>\n",
              "      <td>4.456419</td>\n",
              "      <td>5.847293</td>\n",
              "      <td>5.322456</td>\n",
              "      <td>2.014160</td>\n",
              "      <td>3.629745</td>\n",
              "      <td>3.922476</td>\n",
              "      <td>4.001503</td>\n",
              "      <td>6.738880</td>\n",
              "      <td>6.997063</td>\n",
              "      <td>3.064890</td>\n",
              "      <td>6.460360</td>\n",
              "      <td>5.943007</td>\n",
              "      <td>8.463577</td>\n",
              "      <td>5.568222</td>\n",
              "      <td>3.455297</td>\n",
              "      <td>6.369377</td>\n",
              "      <td>2.150605</td>\n",
              "      <td>2.329852</td>\n",
              "      <td>4.792140</td>\n",
              "      <td>8.212699</td>\n",
              "      <td>2.179327</td>\n",
              "    </tr>\n",
              "    <tr>\n",
              "      <th>Tarca_008_P1A08</th>\n",
              "      <td>2.570783</td>\n",
              "      <td>5.296953</td>\n",
              "      <td>5.861601</td>\n",
              "      <td>5.903168</td>\n",
              "      <td>2.392004</td>\n",
              "      <td>6.352775</td>\n",
              "      <td>4.892857</td>\n",
              "      <td>7.614394</td>\n",
              "      <td>2.208451</td>\n",
              "      <td>9.882635</td>\n",
              "      <td>3.283009</td>\n",
              "      <td>2.244929</td>\n",
              "      <td>9.660198</td>\n",
              "      <td>5.084143</td>\n",
              "      <td>4.946701</td>\n",
              "      <td>8.379531</td>\n",
              "      <td>6.235072</td>\n",
              "      <td>2.506147</td>\n",
              "      <td>3.176281</td>\n",
              "      <td>3.626324</td>\n",
              "      <td>2.583422</td>\n",
              "      <td>6.258016</td>\n",
              "      <td>4.694941</td>\n",
              "      <td>2.780831</td>\n",
              "      <td>6.229408</td>\n",
              "      <td>3.522762</td>\n",
              "      <td>7.624183</td>\n",
              "      <td>2.939591</td>\n",
              "      <td>3.634917</td>\n",
              "      <td>6.084426</td>\n",
              "      <td>6.815976</td>\n",
              "      <td>6.512793</td>\n",
              "      <td>7.848821</td>\n",
              "      <td>3.684043</td>\n",
              "      <td>5.439518</td>\n",
              "      <td>6.413924</td>\n",
              "      <td>6.480884</td>\n",
              "      <td>5.932822</td>\n",
              "      <td>5.673679</td>\n",
              "      <td>1.937463</td>\n",
              "      <td>...</td>\n",
              "      <td>3.467918</td>\n",
              "      <td>2.348335</td>\n",
              "      <td>5.035436</td>\n",
              "      <td>1.769182</td>\n",
              "      <td>8.588449</td>\n",
              "      <td>5.498904</td>\n",
              "      <td>6.471847</td>\n",
              "      <td>6.519755</td>\n",
              "      <td>5.520140</td>\n",
              "      <td>9.531953</td>\n",
              "      <td>5.355924</td>\n",
              "      <td>12.573317</td>\n",
              "      <td>3.515404</td>\n",
              "      <td>3.856846</td>\n",
              "      <td>7.197632</td>\n",
              "      <td>5.006447</td>\n",
              "      <td>7.425995</td>\n",
              "      <td>10.202493</td>\n",
              "      <td>4.287217</td>\n",
              "      <td>4.294007</td>\n",
              "      <td>6.121490</td>\n",
              "      <td>5.398638</td>\n",
              "      <td>1.759117</td>\n",
              "      <td>4.274006</td>\n",
              "      <td>3.446147</td>\n",
              "      <td>3.856371</td>\n",
              "      <td>4.468420</td>\n",
              "      <td>7.409895</td>\n",
              "      <td>3.155454</td>\n",
              "      <td>6.741630</td>\n",
              "      <td>6.078362</td>\n",
              "      <td>8.471654</td>\n",
              "      <td>3.895761</td>\n",
              "      <td>3.053458</td>\n",
              "      <td>6.130775</td>\n",
              "      <td>1.853196</td>\n",
              "      <td>2.342984</td>\n",
              "      <td>3.658629</td>\n",
              "      <td>8.192617</td>\n",
              "      <td>2.204660</td>\n",
              "    </tr>\n",
              "  </tbody>\n",
              "</table>\n",
              "<p>5 rows × 161 columns</p>\n",
              "</div>"
            ],
            "text/plain": [
              "                   241       445       613     ...    118513    123319    124855\n",
              "Tarca_001_P1A01  2.354485  5.677775  5.019519  ...  4.604766  7.433590  2.137929\n",
              "Tarca_004_P1A04  2.929192  5.255329  6.192424  ...  4.393711  7.953125  1.897539\n",
              "Tarca_005_P1A05  3.076161  5.362117  5.526927  ...  3.888668  7.860126  2.411225\n",
              "Tarca_007_P1A07  2.683113  5.489747  5.314329  ...  4.792140  8.212699  2.179327\n",
              "Tarca_008_P1A08  2.570783  5.296953  5.861601  ...  3.658629  8.192617  2.204660\n",
              "\n",
              "[5 rows x 161 columns]"
            ]
          },
          "metadata": {
            "tags": []
          },
          "execution_count": 26
        }
      ]
    },
    {
      "cell_type": "markdown",
      "metadata": {
        "id": "exQJCRQZYqFJ",
        "colab_type": "text"
      },
      "source": [
        "Save the chunk. we will slap all filtered chunks back together at the end. Give each chunk a unique name"
      ]
    },
    {
      "cell_type": "markdown",
      "metadata": {
        "id": "WX1L1mz5cqWh",
        "colab_type": "text"
      },
      "source": [
        "0-100000"
      ]
    },
    {
      "cell_type": "code",
      "metadata": {
        "id": "yUA-C8HyBNdm",
        "colab_type": "code",
        "colab": {}
      },
      "source": [
        "o1 = X3.to_csv(r'/content/gdrive/My Drive/01.csv', index = None, header=True) #Don't forget to add '.csv' at the end of the path"
      ],
      "execution_count": 0,
      "outputs": []
    },
    {
      "cell_type": "markdown",
      "metadata": {
        "id": "0ohiaDaRcxYD",
        "colab_type": "text"
      },
      "source": [
        "100000-200000"
      ]
    },
    {
      "cell_type": "code",
      "metadata": {
        "id": "7-vLUd17B1uW",
        "colab_type": "code",
        "colab": {}
      },
      "source": [
        "o2 = X3.to_csv(r'/content/gdrive/My Drive/02.csv', index = None, header=True)"
      ],
      "execution_count": 0,
      "outputs": []
    },
    {
      "cell_type": "markdown",
      "metadata": {
        "id": "hi2dL_h-dAX7",
        "colab_type": "text"
      },
      "source": [
        "200000-300000"
      ]
    },
    {
      "cell_type": "code",
      "metadata": {
        "id": "FF8ibb53bgfL",
        "colab_type": "code",
        "colab": {}
      },
      "source": [
        "o3 = X3.to_csv(r'/content/gdrive/My Drive/03.csv', index = None, header=True)"
      ],
      "execution_count": 0,
      "outputs": []
    },
    {
      "cell_type": "markdown",
      "metadata": {
        "id": "yW1qyqp5dCXm",
        "colab_type": "text"
      },
      "source": [
        "300000-400000"
      ]
    },
    {
      "cell_type": "code",
      "metadata": {
        "id": "R3W4hMm-bgtX",
        "colab_type": "code",
        "colab": {}
      },
      "source": [
        "o4 = X3.to_csv(r'/content/gdrive/My Drive/04.csv', index = None, header=True)"
      ],
      "execution_count": 0,
      "outputs": []
    },
    {
      "cell_type": "markdown",
      "metadata": {
        "id": "tl27M2bNdEu5",
        "colab_type": "text"
      },
      "source": [
        "400000-500000"
      ]
    },
    {
      "cell_type": "code",
      "metadata": {
        "id": "aKEWFR54bgzx",
        "colab_type": "code",
        "colab": {}
      },
      "source": [
        "o5 = X3.to_csv(r'/content/gdrive/My Drive/05.csv', index = None, header=True)"
      ],
      "execution_count": 0,
      "outputs": []
    },
    {
      "cell_type": "markdown",
      "metadata": {
        "id": "teNSpMMCdHIS",
        "colab_type": "text"
      },
      "source": [
        "500000-600000"
      ]
    },
    {
      "cell_type": "code",
      "metadata": {
        "id": "klmJtFsXbg3E",
        "colab_type": "code",
        "colab": {}
      },
      "source": [
        "o6 = X3.to_csv(r'/content/gdrive/My Drive/06.csv', index = None, header=True)"
      ],
      "execution_count": 0,
      "outputs": []
    },
    {
      "cell_type": "markdown",
      "metadata": {
        "id": "uBOuZVkJdJUp",
        "colab_type": "text"
      },
      "source": [
        "600000-700000"
      ]
    },
    {
      "cell_type": "code",
      "metadata": {
        "id": "hd3V7cesbg9T",
        "colab_type": "code",
        "colab": {}
      },
      "source": [
        "o7 = X3.to_csv(r'/content/gdrive/My Drive/07.csv', index = None, header=True)"
      ],
      "execution_count": 0,
      "outputs": []
    },
    {
      "cell_type": "markdown",
      "metadata": {
        "id": "eLc2LK88dLUh",
        "colab_type": "text"
      },
      "source": [
        "700000-800000"
      ]
    },
    {
      "cell_type": "code",
      "metadata": {
        "id": "CYSPfw1kbg6t",
        "colab_type": "code",
        "colab": {}
      },
      "source": [
        "o8 = X3.to_csv(r'/content/gdrive/My Drive/08.csv', index = None, header=True)"
      ],
      "execution_count": 0,
      "outputs": []
    },
    {
      "cell_type": "markdown",
      "metadata": {
        "id": "jcfAk88BdNVK",
        "colab_type": "text"
      },
      "source": [
        "800000-925030"
      ]
    },
    {
      "cell_type": "code",
      "metadata": {
        "id": "k0eVPxpJblKT",
        "colab_type": "code",
        "colab": {}
      },
      "source": [
        "o9 = X3.to_csv(r'/content/gdrive/My Drive/09.csv', index = None, header=True)"
      ],
      "execution_count": 0,
      "outputs": []
    },
    {
      "cell_type": "markdown",
      "metadata": {
        "id": "XIE7peUYdl6F",
        "colab_type": "text"
      },
      "source": [
        "LOAD THE FILES"
      ]
    },
    {
      "cell_type": "code",
      "metadata": {
        "id": "EbeayKF8dmGI",
        "colab_type": "code",
        "colab": {}
      },
      "source": [
        "X1 = pd.read_csv(\"/content/gdrive/My Drive/01.csv\")\n",
        "#X2 = pd.read_csv(\"/content/gdrive/My Drive/02.csv\")\n",
        "X3 = pd.read_csv(\"/content/gdrive/My Drive/03.csv\")\n",
        "X4 = pd.read_csv(\"/content/gdrive/My Drive/04.csv\")\n",
        "X5 = pd.read_csv(\"/content/gdrive/My Drive/05.csv\")\n",
        "X6 = pd.read_csv(\"/content/gdrive/My Drive/06.csv\")\n",
        "X7 = pd.read_csv(\"/content/gdrive/My Drive/07.csv\")\n",
        "X8 = pd.read_csv(\"/content/gdrive/My Drive/08.csv\")\n",
        "X9 = pd.read_csv(\"/content/gdrive/My Drive/09.csv\")"
      ],
      "execution_count": 0,
      "outputs": []
    },
    {
      "cell_type": "markdown",
      "metadata": {
        "id": "iIM1Foj8fFDz",
        "colab_type": "text"
      },
      "source": [
        ""
      ]
    },
    {
      "cell_type": "code",
      "metadata": {
        "id": "_4aPJdiJfFRq",
        "colab_type": "code",
        "colab": {}
      },
      "source": [
        "X1 = pd.DataFrame(X1)\n",
        "#X2 = pd.DataFrame(X2)\n",
        "X3 = pd.DataFrame(X3)\n",
        "X4 = pd.DataFrame(X4)\n",
        "X5 = pd.DataFrame(X5)\n",
        "X6 = pd.DataFrame(X6)\n",
        "X7 = pd.DataFrame(X7)\n",
        "X8 = pd.DataFrame(X8)\n",
        "X9 = pd.DataFrame(X9)\n",
        "\n",
        "X1.reset_index(drop=True, inplace=True)\n",
        "#X2.reset_index(drop=True, inplace=True)\n",
        "X3.reset_index(drop=True, inplace=True)\n",
        "X4.reset_index(drop=True, inplace=True)\n",
        "X5.reset_index(drop=True, inplace=True)\n",
        "X6.reset_index(drop=True, inplace=True)\n",
        "X7.reset_index(drop=True, inplace=True)\n",
        "X8.reset_index(drop=True, inplace=True)\n",
        "X9.reset_index(drop=True, inplace=True)"
      ],
      "execution_count": 0,
      "outputs": []
    },
    {
      "cell_type": "code",
      "metadata": {
        "id": "jfwpCwcCf53U",
        "colab_type": "code",
        "colab": {}
      },
      "source": [
        "frames = [X1, X3, X4, X5, X6, X7, X8, X9]\n",
        "df = pd.concat(frames, axis = 1)"
      ],
      "execution_count": 0,
      "outputs": []
    },
    {
      "cell_type": "code",
      "metadata": {
        "id": "czB6Si49k_96",
        "colab_type": "code",
        "colab": {}
      },
      "source": [
        "df = df.T.reset_index(drop=True).T"
      ],
      "execution_count": 0,
      "outputs": []
    },
    {
      "cell_type": "code",
      "metadata": {
        "id": "FAD1e8EygFw2",
        "colab_type": "code",
        "colab": {}
      },
      "source": [
        "filteredprobeset15lr = df.to_csv(r'/content/gdrive/My Drive/filteredprobeset15lr.csv', index = None, header=True)"
      ],
      "execution_count": 0,
      "outputs": []
    },
    {
      "cell_type": "code",
      "metadata": {
        "id": "vnnonmT2iYS7",
        "colab_type": "code",
        "outputId": "7ba5ded2-ec55-4da9-a2d1-630c108ca531",
        "colab": {
          "base_uri": "https://localhost:8080/",
          "height": 34
        }
      },
      "source": [
        "#filteredprobeset15lr.shape\n",
        "df.shape"
      ],
      "execution_count": 0,
      "outputs": [
        {
          "output_type": "execute_result",
          "data": {
            "text/plain": [
              "(367, 1135)"
            ]
          },
          "metadata": {
            "tags": []
          },
          "execution_count": 49
        }
      ]
    }
  ]
}